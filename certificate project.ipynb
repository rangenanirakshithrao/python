{
 "cells": [
  {
   "cell_type": "code",
   "execution_count": 1,
   "metadata": {},
   "outputs": [
    {
     "name": "stdout",
     "output_type": "stream",
     "text": [
      "enter what you want to search:- amazon\n"
     ]
    }
   ],
   "source": [
    "#1st google access\n",
    "\n",
    "import webbrowser as wb\n",
    "\n",
    "def googlesearch():\n",
    "    X=input(\"enter what you want to search:- \")\n",
    "    wb.open(\"http://google.com/?q=\"+X)\n",
    "    \n",
    "googlesearch()\n"
   ]
  },
  {
   "cell_type": "code",
   "execution_count": 2,
   "metadata": {},
   "outputs": [
    {
     "name": "stdout",
     "output_type": "stream",
     "text": [
      "enter the area to be searched:- kothapet\n"
     ]
    }
   ],
   "source": [
    "#2nd google maps\n",
    "\n",
    "import webbrowser as wb\n",
    "\n",
    "def maps():\n",
    "    X=input(\"enter the area to be searched:- \")\n",
    "    wb.open(\"http://googlemaps.com/?q=\"+X)\n",
    "    \n",
    "maps()\n"
   ]
  },
  {
   "cell_type": "code",
   "execution_count": 6,
   "metadata": {},
   "outputs": [
    {
     "name": "stdout",
     "output_type": "stream",
     "text": [
      "enter the city you want:-germany\n",
      "{'coord': {'lon': 10.5, 'lat': 51.5}, 'weather': [{'id': 500, 'main': 'Rain', 'description': 'light rain', 'icon': '10d'}], 'base': 'stations', 'main': {'temp': 16.8, 'feels_like': 18.04, 'temp_min': 15.56, 'temp_max': 17.78, 'pressure': 1005, 'humidity': 90}, 'visibility': 10000, 'wind': {'speed': 0.62, 'deg': 55}, 'rain': {'1h': 0.25}, 'clouds': {'all': 96}, 'dt': 1598379014, 'sys': {'type': 3, 'id': 74551, 'country': 'DE', 'sunrise': 1598329208, 'sunset': 1598379619}, 'timezone': 7200, 'id': 2921044, 'name': 'Germany', 'cod': 200}\n"
     ]
    }
   ],
   "source": [
    "# Accessing accurate weather of a current location \n",
    "\n",
    "import requests\n",
    "\n",
    "from gtts import gTTS\n",
    "\n",
    "import pyglet\n",
    "\n",
    "from tkinter import *\n",
    "\n",
    "from datetime import date\n",
    "city=input(\"enter the city you want:-\")\n",
    "\n",
    "url = \"https://openweathermap.org/data/2.5/weather?q={}&appid=439d4b804bc8187953eb36d2a8c26a02\".format(city)\n",
    "\n",
    " \n",
    "res = requests.get(url)\n",
    "output = res.json()\n",
    "print(output)\n",
    "\n",
    "\n",
    "\n",
    "\n",
    " "
   ]
  },
  {
   "cell_type": "code",
   "execution_count": null,
   "metadata": {},
   "outputs": [],
   "source": []
  }
 ],
 "metadata": {
  "kernelspec": {
   "display_name": "Python 3",
   "language": "python",
   "name": "python3"
  },
  "language_info": {
   "codemirror_mode": {
    "name": "ipython",
    "version": 3
   },
   "file_extension": ".py",
   "mimetype": "text/x-python",
   "name": "python",
   "nbconvert_exporter": "python",
   "pygments_lexer": "ipython3",
   "version": "3.7.6"
  }
 },
 "nbformat": 4,
 "nbformat_minor": 4
}
